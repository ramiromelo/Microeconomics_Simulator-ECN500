{
  "nbformat": 4,
  "nbformat_minor": 0,
  "metadata": {
    "colab": {
      "name": "FINAL MICROECONOMICS SIMULATION 2.ipynb",
      "provenance": [],
      "toc_visible": true,
      "machine_shape": "hm",
      "authorship_tag": "ABX9TyO8tXZwlKk+T2+HaTptaES5",
      "include_colab_link": true
    },
    "kernelspec": {
      "name": "python3",
      "display_name": "Python 3"
    },
    "language_info": {
      "name": "python"
    },
    "accelerator": "GPU"
  },
  "cells": [
    {
      "cell_type": "markdown",
      "metadata": {
        "id": "view-in-github",
        "colab_type": "text"
      },
      "source": [
        "<a href=\"https://colab.research.google.com/github/ramiromelo/Microeconomics_Simulator-ECN500/blob/main/FINAL_MICROECONOMICS_SIMULATION_2.ipynb\" target=\"_parent\"><img src=\"https://colab.research.google.com/assets/colab-badge.svg\" alt=\"Open In Colab\"/></a>"
      ]
    },
    {
      "cell_type": "markdown",
      "source": [
        "LIBRARIES"
      ],
      "metadata": {
        "id": "M9zt5MQ67r6Y"
      }
    },
    {
      "cell_type": "code",
      "execution_count": null,
      "metadata": {
        "id": "dh8GwE9Oighd"
      },
      "outputs": [],
      "source": [
        "import matplotlib.pyplot as plt\n",
        "import random\n",
        "from IPython import display\n",
        "import time"
      ]
    },
    {
      "cell_type": "markdown",
      "source": [
        "SIMULATION"
      ],
      "metadata": {
        "id": "uF66jJhs7l67"
      }
    },
    {
      "cell_type": "code",
      "source": [
        "seller_min_price = random.randint(0,100)\n",
        "buyer_max_price = random.randint(0,100)\n",
        "\n",
        "if seller_min_price <= buyer_max_price:\n",
        "  deal = \"Deal\"\n",
        "  deal_price = random.randint(seller_min_price, buyer_max_price)\n",
        "else:\n",
        "  deal = None\n",
        "  deal_price = None\n",
        "\n",
        "surplus = buyer_max_price - seller_min_price\n",
        "\n",
        "print(\"-  seller_min:\", seller_min_price, \"-  buyer_max:\", buyer_max_price, \" - \", deal, deal_price, \" - Surplus:\", surplus)"
      ],
      "metadata": {
        "id": "8xmqC8if4w9k",
        "colab": {
          "base_uri": "https://localhost:8080/"
        },
        "outputId": "21c18373-779f-4b6a-bf65-999f226ca8e8"
      },
      "execution_count": null,
      "outputs": [
        {
          "output_type": "stream",
          "name": "stdout",
          "text": [
            "-  seller_min: 55 -  buyer_max: 11  -  None None  - Surplus: -44\n"
          ]
        }
      ]
    },
    {
      "cell_type": "code",
      "source": [
        "trades = []\n",
        "meets = 250\n",
        "\n",
        "for i in range(meets):\n",
        "  seller_min_price = random.randint(0,100)\n",
        "  buyer_max_price = random.randint(0,100)\n",
        "\n",
        "  if seller_min_price <= buyer_max_price:\n",
        "    deal = \"Deal\"\n",
        "    deal_price = random.randint(seller_min_price, buyer_max_price)\n",
        "  else:\n",
        "    deal = None\n",
        "    deal_price = None\n",
        "\n",
        "  surplus = buyer_max_price - seller_min_price\n",
        "\n",
        "  trades.append([seller_min_price,buyer_max_price,deal,deal_price, surplus]) "
      ],
      "metadata": {
        "id": "pCByiLLJ9ln3"
      },
      "execution_count": null,
      "outputs": []
    },
    {
      "cell_type": "code",
      "source": [
        "print(\"Total trades: \", len(trades))\n",
        "print(\"seller_min, \", \"buyer_max, \", \"Deal?, \", \"deal_price, \", \"surplus\")\n",
        "trades[:10]"
      ],
      "metadata": {
        "colab": {
          "base_uri": "https://localhost:8080/"
        },
        "id": "KfoEzEJTXmbw",
        "outputId": "341d0e5e-ad51-4d1a-a871-c57c038f7025"
      },
      "execution_count": null,
      "outputs": [
        {
          "output_type": "stream",
          "name": "stdout",
          "text": [
            "Total trades:  250\n",
            "seller_min,  buyer_max,  Deal?,  deal_price,  surplus\n"
          ]
        },
        {
          "output_type": "execute_result",
          "data": {
            "text/plain": [
              "[[95, 88, None, None, -7],\n",
              " [92, 33, None, None, -59],\n",
              " [71, 86, 'Deal', 85, 15],\n",
              " [6, 71, 'Deal', 66, 65],\n",
              " [46, 37, None, None, -9],\n",
              " [12, 51, 'Deal', 40, 39],\n",
              " [31, 54, 'Deal', 49, 23],\n",
              " [92, 68, None, None, -24],\n",
              " [42, 53, 'Deal', 44, 11],\n",
              " [97, 36, None, None, -61]]"
            ]
          },
          "metadata": {},
          "execution_count": 36
        }
      ]
    },
    {
      "cell_type": "code",
      "source": [
        "for i in range(100):\n",
        "  plt.rcParams[\"figure.figsize\"] = (12,10)\n",
        "  #sellers\n",
        "  plt.scatter(i, trades[i][0], color=\"#E74C3C\")\n",
        "  #buyers\n",
        "  plt.scatter(i, trades[i][1], color=\"#3498DB\")\n",
        "  display.display(plt.gcf())\n",
        "  display.clear_output(wait=True)\n",
        "  time.sleep(0.0002)"
      ],
      "metadata": {
        "colab": {
          "base_uri": "https://localhost:8080/",
          "height": 592
        },
        "id": "OLpQUfhpe60F",
        "outputId": "b7d26c5a-7508-4f05-a19c-02b4693075b9"
      },
      "execution_count": null,
      "outputs": [
        {
          "output_type": "display_data",
          "data": {
            "text/plain": [
              "<Figure size 864x720 with 1 Axes>"
            ],
            "image/png": "[encoded data removed]"
          },
          "metadata": {
            "needs_background": "light"
          }
        }
      ]
    },
    {
      "cell_type": "code",
      "source": [
        "#SORT TRADES\n",
        "\n",
        "def takeSurplus(elem):\n",
        "    return elem[4]\n",
        "\n",
        "trades.sort(key=takeSurplus, reverse=True)\n",
        "\n",
        "print(\"SORTED\")\n",
        "print(\"Total trades: \", len(trades))\n",
        "\n",
        "#trades\n",
        "trades"
      ],
      "metadata": {
        "colab": {
          "base_uri": "https://localhost:8080/"
        },
        "id": "XWUpNQGJbarl",
        "outputId": "c80a0c0e-8643-4352-cb98-2855548bbd37"
      },
      "execution_count": null,
      "outputs": [
        {
          "output_type": "stream",
          "name": "stdout",
          "text": [
            "SORTED\n",
            "Total trades:  250\n"
          ]
        },
        {
          "output_type": "execute_result",
          "data": {
            "text/plain": [
              "[[0, 97, 'Deal', 48, 97],\n",
              " [0, 90, 'Deal', 30, 90],\n",
              " [8, 98, 'Deal', 20, 90],\n",
              " [7, 95, 'Deal', 20, 88],\n",
              " [1, 85, 'Deal', 27, 84],\n",
              " [8, 92, 'Deal', 52, 84],\n",
              " [9, 92, 'Deal', 63, 83],\n",
              " [13, 91, 'Deal', 59, 78],\n",
              " [21, 99, 'Deal', 51, 78],\n",
              " [7, 81, 'Deal', 14, 74],\n",
              " [1, 74, 'Deal', 16, 73],\n",
              " [17, 88, 'Deal', 21, 71],\n",
              " [25, 93, 'Deal', 88, 68],\n",
              " [6, 71, 'Deal', 66, 65],\n",
              " [9, 73, 'Deal', 23, 64],\n",
              " [20, 84, 'Deal', 54, 64],\n",
              " [23, 87, 'Deal', 82, 64],\n",
              " [16, 79, 'Deal', 76, 63],\n",
              " [24, 84, 'Deal', 37, 60],\n",
              " [6, 65, 'Deal', 23, 59],\n",
              " [19, 78, 'Deal', 34, 59],\n",
              " [25, 83, 'Deal', 81, 58],\n",
              " [38, 96, 'Deal', 92, 58],\n",
              " [8, 66, 'Deal', 58, 58],\n",
              " [37, 92, 'Deal', 63, 55],\n",
              " [40, 95, 'Deal', 55, 55],\n",
              " [23, 78, 'Deal', 31, 55],\n",
              " [14, 69, 'Deal', 15, 55],\n",
              " [26, 78, 'Deal', 29, 52],\n",
              " [8, 59, 'Deal', 11, 51],\n",
              " [34, 85, 'Deal', 36, 51],\n",
              " [30, 77, 'Deal', 53, 47],\n",
              " [24, 71, 'Deal', 48, 47],\n",
              " [40, 85, 'Deal', 71, 45],\n",
              " [14, 58, 'Deal', 21, 44],\n",
              " [52, 95, 'Deal', 87, 43],\n",
              " [45, 87, 'Deal', 45, 42],\n",
              " [58, 98, 'Deal', 75, 40],\n",
              " [58, 98, 'Deal', 70, 40],\n",
              " [12, 51, 'Deal', 40, 39],\n",
              " [36, 75, 'Deal', 57, 39],\n",
              " [40, 78, 'Deal', 67, 38],\n",
              " [10, 48, 'Deal', 13, 38],\n",
              " [62, 99, 'Deal', 79, 37],\n",
              " [30, 66, 'Deal', 48, 36],\n",
              " [31, 66, 'Deal', 37, 35],\n",
              " [28, 63, 'Deal', 50, 35],\n",
              " [11, 45, 'Deal', 31, 34],\n",
              " [16, 50, 'Deal', 21, 34],\n",
              " [27, 60, 'Deal', 43, 33],\n",
              " [15, 48, 'Deal', 37, 33],\n",
              " [30, 62, 'Deal', 57, 32],\n",
              " [43, 75, 'Deal', 66, 32],\n",
              " [41, 72, 'Deal', 71, 31],\n",
              " [3, 33, 'Deal', 10, 30],\n",
              " [18, 48, 'Deal', 29, 30],\n",
              " [36, 66, 'Deal', 59, 30],\n",
              " [24, 54, 'Deal', 52, 30],\n",
              " [8, 36, 'Deal', 31, 28],\n",
              " [21, 49, 'Deal', 24, 28],\n",
              " [46, 74, 'Deal', 60, 28],\n",
              " [39, 66, 'Deal', 64, 27],\n",
              " [8, 35, 'Deal', 24, 27],\n",
              " [23, 50, 'Deal', 44, 27],\n",
              " [60, 87, 'Deal', 67, 27],\n",
              " [68, 94, 'Deal', 75, 26],\n",
              " [3, 29, 'Deal', 8, 26],\n",
              " [63, 88, 'Deal', 69, 25],\n",
              " [31, 54, 'Deal', 49, 23],\n",
              " [72, 95, 'Deal', 74, 23],\n",
              " [63, 85, 'Deal', 73, 22],\n",
              " [55, 76, 'Deal', 65, 21],\n",
              " [34, 55, 'Deal', 39, 21],\n",
              " [30, 50, 'Deal', 43, 20],\n",
              " [72, 91, 'Deal', 88, 19],\n",
              " [21, 40, 'Deal', 31, 19],\n",
              " [2, 21, 'Deal', 10, 19],\n",
              " [69, 87, 'Deal', 81, 18],\n",
              " [20, 38, 'Deal', 26, 18],\n",
              " [18, 36, 'Deal', 26, 18],\n",
              " [28, 45, 'Deal', 40, 17],\n",
              " [74, 91, 'Deal', 78, 17],\n",
              " [75, 91, 'Deal', 90, 16],\n",
              " [38, 54, 'Deal', 38, 16],\n",
              " [71, 86, 'Deal', 85, 15],\n",
              " [49, 64, 'Deal', 63, 15],\n",
              " [0, 15, 'Deal', 8, 15],\n",
              " [85, 99, 'Deal', 91, 14],\n",
              " [66, 80, 'Deal', 74, 14],\n",
              " [5, 18, 'Deal', 10, 13],\n",
              " [76, 88, 'Deal', 78, 12],\n",
              " [48, 60, 'Deal', 53, 12],\n",
              " [42, 53, 'Deal', 44, 11],\n",
              " [64, 75, 'Deal', 65, 11],\n",
              " [39, 50, 'Deal', 49, 11],\n",
              " [28, 39, 'Deal', 38, 11],\n",
              " [79, 90, 'Deal', 83, 11],\n",
              " [51, 61, 'Deal', 56, 10],\n",
              " [74, 83, 'Deal', 81, 9],\n",
              " [40, 49, 'Deal', 40, 9],\n",
              " [9, 18, 'Deal', 13, 9],\n",
              " [71, 80, 'Deal', 77, 9],\n",
              " [16, 25, 'Deal', 23, 9],\n",
              " [63, 71, 'Deal', 69, 8],\n",
              " [22, 30, 'Deal', 30, 8],\n",
              " [68, 76, 'Deal', 70, 8],\n",
              " [41, 49, 'Deal', 45, 8],\n",
              " [48, 55, 'Deal', 48, 7],\n",
              " [36, 43, 'Deal', 36, 7],\n",
              " [11, 18, 'Deal', 18, 7],\n",
              " [23, 30, 'Deal', 27, 7],\n",
              " [87, 93, 'Deal', 87, 6],\n",
              " [40, 46, 'Deal', 45, 6],\n",
              " [85, 90, 'Deal', 90, 5],\n",
              " [12, 17, 'Deal', 13, 5],\n",
              " [13, 18, 'Deal', 13, 5],\n",
              " [49, 53, 'Deal', 50, 4],\n",
              " [52, 56, 'Deal', 54, 4],\n",
              " [88, 90, 'Deal', 89, 2],\n",
              " [83, 85, 'Deal', 84, 2],\n",
              " [78, 80, 'Deal', 79, 2],\n",
              " [54, 55, 'Deal', 54, 1],\n",
              " [89, 90, 'Deal', 90, 1],\n",
              " [100, 100, 'Deal', 100, 0],\n",
              " [70, 70, 'Deal', 70, 0],\n",
              " [17, 16, None, None, -1],\n",
              " [99, 98, None, None, -1],\n",
              " [29, 28, None, None, -1],\n",
              " [17, 16, None, None, -1],\n",
              " [34, 32, None, None, -2],\n",
              " [82, 80, None, None, -2],\n",
              " [94, 92, None, None, -2],\n",
              " [67, 65, None, None, -2],\n",
              " [74, 72, None, None, -2],\n",
              " [48, 45, None, None, -3],\n",
              " [49, 45, None, None, -4],\n",
              " [64, 60, None, None, -4],\n",
              " [28, 24, None, None, -4],\n",
              " [31, 27, None, None, -4],\n",
              " [92, 88, None, None, -4],\n",
              " [35, 30, None, None, -5],\n",
              " [95, 88, None, None, -7],\n",
              " [9, 2, None, None, -7],\n",
              " [55, 48, None, None, -7],\n",
              " [67, 59, None, None, -8],\n",
              " [46, 37, None, None, -9],\n",
              " [55, 46, None, None, -9],\n",
              " [33, 24, None, None, -9],\n",
              " [34, 24, None, None, -10],\n",
              " [36, 26, None, None, -10],\n",
              " [72, 62, None, None, -10],\n",
              " [53, 43, None, None, -10],\n",
              " [22, 12, None, None, -10],\n",
              " [22, 11, None, None, -11],\n",
              " [75, 64, None, None, -11],\n",
              " [68, 56, None, None, -12],\n",
              " [32, 19, None, None, -13],\n",
              " [60, 47, None, None, -13],\n",
              " [94, 81, None, None, -13],\n",
              " [50, 36, None, None, -14],\n",
              " [95, 81, None, None, -14],\n",
              " [23, 9, None, None, -14],\n",
              " [33, 19, None, None, -14],\n",
              " [21, 6, None, None, -15],\n",
              " [69, 53, None, None, -16],\n",
              " [41, 25, None, None, -16],\n",
              " [28, 12, None, None, -16],\n",
              " [46, 30, None, None, -16],\n",
              " [65, 48, None, None, -17],\n",
              " [73, 55, None, None, -18],\n",
              " [49, 31, None, None, -18],\n",
              " [39, 20, None, None, -19],\n",
              " [100, 81, None, None, -19],\n",
              " [62, 42, None, None, -20],\n",
              " [97, 76, None, None, -21],\n",
              " [67, 46, None, None, -21],\n",
              " [56, 35, None, None, -21],\n",
              " [30, 7, None, None, -23],\n",
              " [92, 68, None, None, -24],\n",
              " [70, 46, None, None, -24],\n",
              " [84, 60, None, None, -24],\n",
              " [56, 31, None, None, -25],\n",
              " [79, 54, None, None, -25],\n",
              " [91, 66, None, None, -25],\n",
              " [96, 70, None, None, -26],\n",
              " [39, 12, None, None, -27],\n",
              " [58, 30, None, None, -28],\n",
              " [59, 31, None, None, -28],\n",
              " [43, 14, None, None, -29],\n",
              " [46, 17, None, None, -29],\n",
              " [48, 18, None, None, -30],\n",
              " [66, 34, None, None, -32],\n",
              " [88, 56, None, None, -32],\n",
              " [56, 24, None, None, -32],\n",
              " [78, 46, None, None, -32],\n",
              " [83, 51, None, None, -32],\n",
              " [67, 34, None, None, -33],\n",
              " [97, 61, None, None, -36],\n",
              " [91, 55, None, None, -36],\n",
              " [57, 19, None, None, -38],\n",
              " [97, 59, None, None, -38],\n",
              " [75, 36, None, None, -39],\n",
              " [78, 37, None, None, -41],\n",
              " [93, 51, None, None, -42],\n",
              " [99, 57, None, None, -42],\n",
              " [87, 45, None, None, -42],\n",
              " [67, 24, None, None, -43],\n",
              " [87, 44, None, None, -43],\n",
              " [79, 36, None, None, -43],\n",
              " [99, 55, None, None, -44],\n",
              " [49, 5, None, None, -44],\n",
              " [47, 2, None, None, -45],\n",
              " [59, 13, None, None, -46],\n",
              " [56, 10, None, None, -46],\n",
              " [96, 50, None, None, -46],\n",
              " [82, 35, None, None, -47],\n",
              " [64, 15, None, None, -49],\n",
              " [58, 7, None, None, -51],\n",
              " [59, 6, None, None, -53],\n",
              " [64, 11, None, None, -53],\n",
              " [97, 44, None, None, -53],\n",
              " [65, 10, None, None, -55],\n",
              " [69, 14, None, None, -55],\n",
              " [84, 28, None, None, -56],\n",
              " [63, 7, None, None, -56],\n",
              " [95, 37, None, None, -58],\n",
              " [96, 38, None, None, -58],\n",
              " [92, 33, None, None, -59],\n",
              " [75, 16, None, None, -59],\n",
              " [75, 16, None, None, -59],\n",
              " [97, 36, None, None, -61],\n",
              " [70, 9, None, None, -61],\n",
              " [82, 21, None, None, -61],\n",
              " [62, 0, None, None, -62],\n",
              " [94, 32, None, None, -62],\n",
              " [81, 18, None, None, -63],\n",
              " [69, 4, None, None, -65],\n",
              " [73, 3, None, None, -70],\n",
              " [79, 8, None, None, -71],\n",
              " [81, 8, None, None, -73],\n",
              " [89, 15, None, None, -74],\n",
              " [80, 0, None, None, -80],\n",
              " [96, 15, None, None, -81],\n",
              " [84, 1, None, None, -83],\n",
              " [92, 6, None, None, -86],\n",
              " [96, 9, None, None, -87],\n",
              " [95, 4, None, None, -91],\n",
              " [99, 6, None, None, -93],\n",
              " [97, 0, None, None, -97],\n",
              " [100, 0, None, None, -100]]"
            ]
          },
          "metadata": {},
          "execution_count": 38
        }
      ]
    },
    {
      "cell_type": "code",
      "source": [
        "for i in range(meets):\n",
        "  plt.rcParams[\"figure.figsize\"] = (12,10)\n",
        "  #supply\n",
        "  plt.scatter(i, trades[i][0], color=\"#E74C3C\")\n",
        "  #demand\n",
        "  plt.scatter(i, trades[i][1], color=\"#3498DB\")"
      ],
      "metadata": {
        "id": "5P9-nIpDPTpS",
        "colab": {
          "base_uri": "https://localhost:8080/",
          "height": 592
        },
        "outputId": "7a57fbc5-ec98-45dd-8b5b-170438c75498"
      },
      "execution_count": null,
      "outputs": [
        {
          "output_type": "display_data",
          "data": {
            "text/plain": [
              "<Figure size 864x720 with 1 Axes>"
            ],
            "image/png": "[encoded data removed]"
          },
          "metadata": {
            "needs_background": "light"
          }
        }
      ]
    },
    {
      "cell_type": "code",
      "source": [
        "#COUNT SUPPLY AND DEMAND FOR EACH PRICE LEVEL\n",
        "sellers_group = []\n",
        "buyers_group = []\n",
        "supply = []\n",
        "demand = []\n",
        "\n",
        "for i in range(meets):\n",
        "  sellers_group.append(trades[i][0])\n",
        "  #print(trades[i][0])\n",
        "\n",
        "time.sleep(1)\n",
        "\n",
        "for i in range(meets):\n",
        "  buyers_group.append(trades[i][1])\n",
        "\n",
        "time.sleep(1)\n",
        "#type(sellers_group[2])\n",
        "\n",
        "#SUPPLY\n",
        "for s in range(100):\n",
        "  sum = 0\n",
        "  for e in sellers_group:\n",
        "    if e <= s:\n",
        "      sum+=1\n",
        "  supply.append(sum)\n",
        "   \n",
        "    \n",
        "#DEMAND\n",
        "for d in range(100):\n",
        "  sum = 0\n",
        "  for e in buyers_group:\n",
        "    if e >= d:\n",
        "      sum+=1\n",
        "  demand.append(sum)\n",
        "\n",
        "for i in range(100):\n",
        "  plt.rcParams[\"figure.figsize\"] = (12,10)\n",
        "  #supply\n",
        "  plt.scatter(supply[i], i, color=\"#E74C3C\")\n",
        "  #demand\n",
        "  plt.scatter(demand[i], i, color=\"#3498DB\")\n",
        "  "
      ],
      "metadata": {
        "colab": {
          "base_uri": "https://localhost:8080/",
          "height": 592
        },
        "id": "JZQXZ_34BDh4",
        "outputId": "0add965f-9643-4c4e-a21c-b4ca5143adbc"
      },
      "execution_count": null,
      "outputs": [
        {
          "output_type": "display_data",
          "data": {
            "text/plain": [
              "<Figure size 864x720 with 1 Axes>"
            ],
            "image/png": "[encoded data removed]"
          },
          "metadata": {
            "needs_background": "light"
          }
        }
      ]
    },
    {
      "cell_type": "code",
      "source": [
        "#EQUILIBRIUM PRICE\n",
        "\n",
        "#average = 0\n",
        "\n",
        "for i in range(100):\n",
        "  if i == 0:\n",
        "    sum = trades[i][3]\n",
        "    equilibrium = trades[i][3]\n",
        "  else:\n",
        "    sum = sum + trades[i][3]\n",
        "    equilibrium = sum / i\n",
        "  \n",
        "  plt.rcParams[\"figure.figsize\"] = (12,4)\n",
        "  plt.scatter(i, equilibrium, color=\"#34495E\")\n",
        "  \n",
        "  display.display(plt.gcf())\n",
        "  display.clear_output(wait=True)\n",
        "  time.sleep(0.0002)\n",
        "  print(\"EQUILIBRIUM PRICE: \", equilibrium)\n"
      ],
      "metadata": {
        "id": "MMv0Ijz2m8V8",
        "colab": {
          "base_uri": "https://localhost:8080/",
          "height": 286
        },
        "outputId": "c8776482-8c42-439c-e6bf-55036183f5a7"
      },
      "execution_count": null,
      "outputs": [
        {
          "output_type": "stream",
          "name": "stdout",
          "text": [
            "EQUILIBRIUM PRICE:  49.96969696969697\n"
          ]
        },
        {
          "output_type": "display_data",
          "data": {
            "text/plain": [
              "<Figure size 864x288 with 1 Axes>"
            ],
            "image/png": "[encoded data removed]"
          },
          "metadata": {
            "needs_background": "light"
          }
        }
      ]
    },
    {
      "cell_type": "code",
      "source": [
        "#EXTERNALITIES\n",
        "\n",
        "new_ask_price = []\n",
        "new_supply = []\n",
        "taxes = 0.2\n",
        "\n",
        "#NEW_SELLERS GROUP\n",
        "for i in range(meets):\n",
        "  new_ask_price.append(round(sellers_group[i] + sellers_group[i] * taxes))\n",
        "\n",
        "\n",
        "#NEW_SUPPLY\n",
        "for s in range(100):\n",
        "  sum = 0\n",
        "  for e in new_ask_price:\n",
        "    if e <= s:\n",
        "      sum+=1\n",
        "  new_supply.append(sum)\n",
        "\n",
        "\n",
        "new_supply\n",
        "\n",
        "#NEW SUPPLY\n",
        "#for n in range(130):\n",
        " # new_supply.append(sum(1 for item in new_ask_price if item<=(n)))\n",
        "\n",
        "#a = sum(1 for item in new_ask_price if item<=(50))"
      ],
      "metadata": {
        "id": "HW2GHVTTDX3t",
        "colab": {
          "base_uri": "https://localhost:8080/"
        },
        "outputId": "7296b60b-4db5-48e3-baba-e1c7084c00df"
      },
      "execution_count": null,
      "outputs": [
        {
          "output_type": "execute_result",
          "data": {
            "text/plain": [
              "[3,\n",
              " 5,\n",
              " 6,\n",
              " 6,\n",
              " 8,\n",
              " 8,\n",
              " 9,\n",
              " 11,\n",
              " 13,\n",
              " 13,\n",
              " 19,\n",
              " 23,\n",
              " 24,\n",
              " 26,\n",
              " 28,\n",
              " 28,\n",
              " 30,\n",
              " 32,\n",
              " 33,\n",
              " 36,\n",
              " 39,\n",
              " 39,\n",
              " 41,\n",
              " 42,\n",
              " 44,\n",
              " 48,\n",
              " 51,\n",
              " 51,\n",
              " 56,\n",
              " 59,\n",
              " 61,\n",
              " 62,\n",
              " 63,\n",
              " 63,\n",
              " 68,\n",
              " 69,\n",
              " 74,\n",
              " 77,\n",
              " 78,\n",
              " 78,\n",
              " 80,\n",
              " 84,\n",
              " 85,\n",
              " 89,\n",
              " 90,\n",
              " 90,\n",
              " 92,\n",
              " 96,\n",
              " 101,\n",
              " 104,\n",
              " 105,\n",
              " 105,\n",
              " 107,\n",
              " 107,\n",
              " 108,\n",
              " 112,\n",
              " 113,\n",
              " 113,\n",
              " 117,\n",
              " 122,\n",
              " 123,\n",
              " 124,\n",
              " 126,\n",
              " 126,\n",
              " 127,\n",
              " 128,\n",
              " 131,\n",
              " 135,\n",
              " 136,\n",
              " 136,\n",
              " 140,\n",
              " 143,\n",
              " 145,\n",
              " 145,\n",
              " 148,\n",
              " 148,\n",
              " 152,\n",
              " 156,\n",
              " 158,\n",
              " 160,\n",
              " 165,\n",
              " 165,\n",
              " 168,\n",
              " 172,\n",
              " 175,\n",
              " 177,\n",
              " 180,\n",
              " 180,\n",
              " 182,\n",
              " 185,\n",
              " 190,\n",
              " 191,\n",
              " 191,\n",
              " 191,\n",
              " 194,\n",
              " 198,\n",
              " 199,\n",
              " 201,\n",
              " 204,\n",
              " 204]"
            ]
          },
          "metadata": {},
          "execution_count": 42
        }
      ]
    },
    {
      "cell_type": "code",
      "source": [
        "for i in range(100):\n",
        "  plt.rcParams[\"figure.figsize\"] = (12,10)\n",
        "  #supply\n",
        "  plt.scatter(supply[i], i, color=\"#E74C3C\")\n",
        "  #demand\n",
        "  plt.scatter(demand[i], i, color=\"#3498DB\")\n",
        "  #new supply\n",
        "  plt.scatter(new_supply[i], i, color=\"#E16210\")"
      ],
      "metadata": {
        "colab": {
          "base_uri": "https://localhost:8080/",
          "height": 592
        },
        "id": "X6hyQy6-vnaR",
        "outputId": "bf91829a-2346-41b2-dada-634ea18f7ac5"
      },
      "execution_count": null,
      "outputs": [
        {
          "output_type": "display_data",
          "data": {
            "text/plain": [
              "<Figure size 864x720 with 1 Axes>"
            ],
            "image/png": "[encoded data removed]"
          },
          "metadata": {
            "needs_background": "light"
          }
        }
      ]
    },
    {
      "cell_type": "code",
      "source": [
        "#NEW TRADES\n",
        "\n",
        "new_trades = []\n",
        "\n",
        "for i in range(meets):\n",
        "  \n",
        "  if new_ask_price[i] <= trades[i][1]:\n",
        "    deal = \"Deal\"\n",
        "    deal_price = random.randint(new_ask_price[i], trades[i][1])\n",
        "  else:\n",
        "    deal = None\n",
        "    deal_price = None\n",
        "\n",
        "  surplus = trades[i][1] - new_ask_price[i]\n",
        "\n",
        "  new_trades.append([new_ask_price[i],trades[i][1],deal,deal_price, surplus]) \n",
        "\n",
        "new_trades"
      ],
      "metadata": {
        "colab": {
          "base_uri": "https://localhost:8080/"
        },
        "id": "1v_pohFmLMEn",
        "outputId": "26fd6491-f4bd-45f9-ee82-3bc5608912eb"
      },
      "execution_count": null,
      "outputs": [
        {
          "output_type": "execute_result",
          "data": {
            "text/plain": [
              "[[0, 97, 'Deal', 77, 97],\n",
              " [0, 90, 'Deal', 9, 90],\n",
              " [10, 98, 'Deal', 32, 88],\n",
              " [8, 95, 'Deal', 33, 87],\n",
              " [1, 85, 'Deal', 63, 84],\n",
              " [10, 92, 'Deal', 13, 82],\n",
              " [11, 92, 'Deal', 71, 81],\n",
              " [16, 91, 'Deal', 60, 75],\n",
              " [25, 99, 'Deal', 89, 74],\n",
              " [8, 81, 'Deal', 69, 73],\n",
              " [1, 74, 'Deal', 43, 73],\n",
              " [20, 88, 'Deal', 67, 68],\n",
              " [30, 93, 'Deal', 35, 63],\n",
              " [7, 71, 'Deal', 8, 64],\n",
              " [11, 73, 'Deal', 29, 62],\n",
              " [24, 84, 'Deal', 48, 60],\n",
              " [28, 87, 'Deal', 73, 59],\n",
              " [19, 79, 'Deal', 78, 60],\n",
              " [29, 84, 'Deal', 42, 55],\n",
              " [7, 65, 'Deal', 63, 58],\n",
              " [23, 78, 'Deal', 33, 55],\n",
              " [30, 83, 'Deal', 53, 53],\n",
              " [46, 96, 'Deal', 62, 50],\n",
              " [10, 66, 'Deal', 66, 56],\n",
              " [44, 92, 'Deal', 58, 48],\n",
              " [48, 95, 'Deal', 81, 47],\n",
              " [28, 78, 'Deal', 53, 50],\n",
              " [17, 69, 'Deal', 65, 52],\n",
              " [31, 78, 'Deal', 63, 47],\n",
              " [10, 59, 'Deal', 48, 49],\n",
              " [41, 85, 'Deal', 75, 44],\n",
              " [36, 77, 'Deal', 57, 41],\n",
              " [29, 71, 'Deal', 29, 42],\n",
              " [48, 85, 'Deal', 73, 37],\n",
              " [17, 58, 'Deal', 54, 41],\n",
              " [62, 95, 'Deal', 66, 33],\n",
              " [54, 87, 'Deal', 55, 33],\n",
              " [70, 98, 'Deal', 98, 28],\n",
              " [70, 98, 'Deal', 96, 28],\n",
              " [14, 51, 'Deal', 19, 37],\n",
              " [43, 75, 'Deal', 44, 32],\n",
              " [48, 78, 'Deal', 65, 30],\n",
              " [12, 48, 'Deal', 43, 36],\n",
              " [74, 99, 'Deal', 76, 25],\n",
              " [36, 66, 'Deal', 56, 30],\n",
              " [37, 66, 'Deal', 58, 29],\n",
              " [34, 63, 'Deal', 60, 29],\n",
              " [13, 45, 'Deal', 33, 32],\n",
              " [19, 50, 'Deal', 23, 31],\n",
              " [32, 60, 'Deal', 46, 28],\n",
              " [18, 48, 'Deal', 35, 30],\n",
              " [36, 62, 'Deal', 55, 26],\n",
              " [52, 75, 'Deal', 60, 23],\n",
              " [49, 72, 'Deal', 56, 23],\n",
              " [4, 33, 'Deal', 29, 29],\n",
              " [22, 48, 'Deal', 29, 26],\n",
              " [43, 66, 'Deal', 54, 23],\n",
              " [29, 54, 'Deal', 44, 25],\n",
              " [10, 36, 'Deal', 11, 26],\n",
              " [25, 49, 'Deal', 31, 24],\n",
              " [55, 74, 'Deal', 58, 19],\n",
              " [47, 66, 'Deal', 53, 19],\n",
              " [10, 35, 'Deal', 27, 25],\n",
              " [28, 50, 'Deal', 28, 22],\n",
              " [72, 87, 'Deal', 73, 15],\n",
              " [82, 94, 'Deal', 87, 12],\n",
              " [4, 29, 'Deal', 24, 25],\n",
              " [76, 88, 'Deal', 80, 12],\n",
              " [37, 54, 'Deal', 39, 17],\n",
              " [86, 95, 'Deal', 89, 9],\n",
              " [76, 85, 'Deal', 83, 9],\n",
              " [66, 76, 'Deal', 71, 10],\n",
              " [41, 55, 'Deal', 53, 14],\n",
              " [36, 50, 'Deal', 37, 14],\n",
              " [86, 91, 'Deal', 89, 5],\n",
              " [25, 40, 'Deal', 40, 15],\n",
              " [2, 21, 'Deal', 12, 19],\n",
              " [83, 87, 'Deal', 87, 4],\n",
              " [24, 38, 'Deal', 24, 14],\n",
              " [22, 36, 'Deal', 22, 14],\n",
              " [34, 45, 'Deal', 36, 11],\n",
              " [89, 91, 'Deal', 90, 2],\n",
              " [90, 91, 'Deal', 91, 1],\n",
              " [46, 54, 'Deal', 46, 8],\n",
              " [85, 86, 'Deal', 86, 1],\n",
              " [59, 64, 'Deal', 60, 5],\n",
              " [0, 15, 'Deal', 15, 15],\n",
              " [102, 99, None, None, -3],\n",
              " [79, 80, 'Deal', 79, 1],\n",
              " [6, 18, 'Deal', 7, 12],\n",
              " [91, 88, None, None, -3],\n",
              " [58, 60, 'Deal', 58, 2],\n",
              " [50, 53, 'Deal', 52, 3],\n",
              " [77, 75, None, None, -2],\n",
              " [47, 50, 'Deal', 48, 3],\n",
              " [34, 39, 'Deal', 35, 5],\n",
              " [95, 90, None, None, -5],\n",
              " [61, 61, 'Deal', 61, 0],\n",
              " [89, 83, None, None, -6],\n",
              " [48, 49, 'Deal', 49, 1],\n",
              " [11, 18, 'Deal', 16, 7],\n",
              " [85, 80, None, None, -5],\n",
              " [19, 25, 'Deal', 20, 6],\n",
              " [76, 71, None, None, -5],\n",
              " [26, 30, 'Deal', 29, 4],\n",
              " [82, 76, None, None, -6],\n",
              " [49, 49, 'Deal', 49, 0],\n",
              " [58, 55, None, None, -3],\n",
              " [43, 43, 'Deal', 43, 0],\n",
              " [13, 18, 'Deal', 13, 5],\n",
              " [28, 30, 'Deal', 28, 2],\n",
              " [104, 93, None, None, -11],\n",
              " [48, 46, None, None, -2],\n",
              " [102, 90, None, None, -12],\n",
              " [14, 17, 'Deal', 16, 3],\n",
              " [16, 18, 'Deal', 16, 2],\n",
              " [59, 53, None, None, -6],\n",
              " [62, 56, None, None, -6],\n",
              " [106, 90, None, None, -16],\n",
              " [100, 85, None, None, -15],\n",
              " [94, 80, None, None, -14],\n",
              " [65, 55, None, None, -10],\n",
              " [107, 90, None, None, -17],\n",
              " [120, 100, None, None, -20],\n",
              " [84, 70, None, None, -14],\n",
              " [20, 16, None, None, -4],\n",
              " [119, 98, None, None, -21],\n",
              " [35, 28, None, None, -7],\n",
              " [20, 16, None, None, -4],\n",
              " [41, 32, None, None, -9],\n",
              " [98, 80, None, None, -18],\n",
              " [113, 92, None, None, -21],\n",
              " [80, 65, None, None, -15],\n",
              " [89, 72, None, None, -17],\n",
              " [58, 45, None, None, -13],\n",
              " [59, 45, None, None, -14],\n",
              " [77, 60, None, None, -17],\n",
              " [34, 24, None, None, -10],\n",
              " [37, 27, None, None, -10],\n",
              " [110, 88, None, None, -22],\n",
              " [42, 30, None, None, -12],\n",
              " [114, 88, None, None, -26],\n",
              " [11, 2, None, None, -9],\n",
              " [66, 48, None, None, -18],\n",
              " [80, 59, None, None, -21],\n",
              " [55, 37, None, None, -18],\n",
              " [66, 46, None, None, -20],\n",
              " [40, 24, None, None, -16],\n",
              " [41, 24, None, None, -17],\n",
              " [43, 26, None, None, -17],\n",
              " [86, 62, None, None, -24],\n",
              " [64, 43, None, None, -21],\n",
              " [26, 12, None, None, -14],\n",
              " [26, 11, None, None, -15],\n",
              " [90, 64, None, None, -26],\n",
              " [82, 56, None, None, -26],\n",
              " [38, 19, None, None, -19],\n",
              " [72, 47, None, None, -25],\n",
              " [113, 81, None, None, -32],\n",
              " [60, 36, None, None, -24],\n",
              " [114, 81, None, None, -33],\n",
              " [28, 9, None, None, -19],\n",
              " [40, 19, None, None, -21],\n",
              " [25, 6, None, None, -19],\n",
              " [83, 53, None, None, -30],\n",
              " [49, 25, None, None, -24],\n",
              " [34, 12, None, None, -22],\n",
              " [55, 30, None, None, -25],\n",
              " [78, 48, None, None, -30],\n",
              " [88, 55, None, None, -33],\n",
              " [59, 31, None, None, -28],\n",
              " [47, 20, None, None, -27],\n",
              " [120, 81, None, None, -39],\n",
              " [74, 42, None, None, -32],\n",
              " [116, 76, None, None, -40],\n",
              " [80, 46, None, None, -34],\n",
              " [67, 35, None, None, -32],\n",
              " [36, 7, None, None, -29],\n",
              " [110, 68, None, None, -42],\n",
              " [84, 46, None, None, -38],\n",
              " [101, 60, None, None, -41],\n",
              " [67, 31, None, None, -36],\n",
              " [95, 54, None, None, -41],\n",
              " [109, 66, None, None, -43],\n",
              " [115, 70, None, None, -45],\n",
              " [47, 12, None, None, -35],\n",
              " [70, 30, None, None, -40],\n",
              " [71, 31, None, None, -40],\n",
              " [52, 14, None, None, -38],\n",
              " [55, 17, None, None, -38],\n",
              " [58, 18, None, None, -40],\n",
              " [79, 34, None, None, -45],\n",
              " [106, 56, None, None, -50],\n",
              " [67, 24, None, None, -43],\n",
              " [94, 46, None, None, -48],\n",
              " [100, 51, None, None, -49],\n",
              " [80, 34, None, None, -46],\n",
              " [116, 61, None, None, -55],\n",
              " [109, 55, None, None, -54],\n",
              " [68, 19, None, None, -49],\n",
              " [116, 59, None, None, -57],\n",
              " [90, 36, None, None, -54],\n",
              " [94, 37, None, None, -57],\n",
              " [112, 51, None, None, -61],\n",
              " [119, 57, None, None, -62],\n",
              " [104, 45, None, None, -59],\n",
              " [80, 24, None, None, -56],\n",
              " [104, 44, None, None, -60],\n",
              " [95, 36, None, None, -59],\n",
              " [119, 55, None, None, -64],\n",
              " [59, 5, None, None, -54],\n",
              " [56, 2, None, None, -54],\n",
              " [71, 13, None, None, -58],\n",
              " [67, 10, None, None, -57],\n",
              " [115, 50, None, None, -65],\n",
              " [98, 35, None, None, -63],\n",
              " [77, 15, None, None, -62],\n",
              " [70, 7, None, None, -63],\n",
              " [71, 6, None, None, -65],\n",
              " [77, 11, None, None, -66],\n",
              " [116, 44, None, None, -72],\n",
              " [78, 10, None, None, -68],\n",
              " [83, 14, None, None, -69],\n",
              " [101, 28, None, None, -73],\n",
              " [76, 7, None, None, -69],\n",
              " [114, 37, None, None, -77],\n",
              " [115, 38, None, None, -77],\n",
              " [110, 33, None, None, -77],\n",
              " [90, 16, None, None, -74],\n",
              " [90, 16, None, None, -74],\n",
              " [116, 36, None, None, -80],\n",
              " [84, 9, None, None, -75],\n",
              " [98, 21, None, None, -77],\n",
              " [74, 0, None, None, -74],\n",
              " [113, 32, None, None, -81],\n",
              " [97, 18, None, None, -79],\n",
              " [83, 4, None, None, -79],\n",
              " [88, 3, None, None, -85],\n",
              " [95, 8, None, None, -87],\n",
              " [97, 8, None, None, -89],\n",
              " [107, 15, None, None, -92],\n",
              " [96, 0, None, None, -96],\n",
              " [115, 15, None, None, -100],\n",
              " [101, 1, None, None, -100],\n",
              " [110, 6, None, None, -104],\n",
              " [115, 9, None, None, -106],\n",
              " [114, 4, None, None, -110],\n",
              " [119, 6, None, None, -113],\n",
              " [116, 0, None, None, -116],\n",
              " [120, 0, None, None, -120]]"
            ]
          },
          "metadata": {},
          "execution_count": 60
        }
      ]
    },
    {
      "cell_type": "code",
      "source": [
        "#NEW EQUILIBRIUM PRICE\n",
        "\n",
        "new_average = 0\n",
        "sum = 0\n",
        "\n",
        "for i in range(70):\n",
        "  if i == 0:\n",
        "    sum = new_trades[i][3]\n",
        "    new_equilibrium = new_trades[i][3]\n",
        "  else:\n",
        "    sum = sum + new_trades[i][3]\n",
        "    new_equilibrium = sum / i\n",
        "  \n",
        "  plt.rcParams[\"figure.figsize\"] = (12,4)\n",
        "  plt.scatter(i, new_equilibrium, color=\"#34495E\")\n",
        "  \n",
        "  display.display(plt.gcf())\n",
        "  display.clear_output(wait=True)\n",
        "  time.sleep(0.0002)\n",
        "  print(\"EQUILIBRIUM PRICE: \", new_equilibrium)"
      ],
      "metadata": {
        "colab": {
          "base_uri": "https://localhost:8080/",
          "height": 282
        },
        "id": "KB1F17rWvw-Q",
        "outputId": "bcdf73c7-4f82-4814-96cf-1b0b40320160"
      },
      "execution_count": null,
      "outputs": [
        {
          "output_type": "stream",
          "name": "stdout",
          "text": [
            "EQUILIBRIUM PRICE:  54.608695652173914\n"
          ]
        },
        {
          "output_type": "display_data",
          "data": {
            "text/plain": [
              "<Figure size 864x288 with 1 Axes>"
            ],
            "image/png": "[encoded data removed]"
          },
          "metadata": {
            "needs_background": "light"
          }
        }
      ]
    }
  ]
}
